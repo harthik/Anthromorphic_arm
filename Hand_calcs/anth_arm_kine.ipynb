{
 "cells": [
  {
   "cell_type": "code",
   "execution_count": 5,
   "metadata": {},
   "outputs": [],
   "source": [
    "import numpy as np\n",
    "import math\n",
    "from math import pi\n",
    "import sympy as sp\n",
    "from sympy import sin,cos\n",
    "import matplotlib.pyplot as plt\n",
    "import copy\n",
    "\n",
    "from my_robot import Quaternion,Link,Robot,forward_kine\n",
    "\n",
    "q1 = sp.Symbol('q1')\n",
    "q2 = sp.Symbol('q2')\n",
    "q3 = sp.Symbol('q3')"
   ]
  },
  {
   "cell_type": "code",
   "execution_count": 6,
   "metadata": {},
   "outputs": [],
   "source": [
    "links = [Link(pi/2,0,q1,0.05,0), Link(0, 0.1, q2, 0,0.05),Link(0,0.1,q3,0,0.05)]\n",
    "Mp = [0,0,0]\n",
    "K = [1,1,1]\n",
    "ml = [0.01,0.12,0.08]\n",
    "mm = [0.034,0.034,0.034]\n",
    "v0 = np.array([0, 0, 0])\n",
    "n = len(links)  # number of links"
   ]
  },
  {
   "cell_type": "code",
   "execution_count": 7,
   "metadata": {},
   "outputs": [],
   "source": [
    "Rot,pe = forward_kine(links, n, v0)"
   ]
  },
  {
   "cell_type": "code",
   "execution_count": 9,
   "metadata": {},
   "outputs": [
    {
     "data": {
      "text/latex": [
       "$\\displaystyle \\left[\\begin{matrix}- 0.1 \\left(\\cos{\\left(q_{2} \\right)} + \\cos{\\left(q_{2} + q_{3} \\right)}\\right) \\sin{\\left(q_{1} \\right)} & - 0.1 \\left(\\sin{\\left(q_{2} \\right)} + \\sin{\\left(q_{2} + q_{3} \\right)}\\right) \\cos{\\left(q_{1} \\right)} & - 0.1 \\sin{\\left(q_{2} + q_{3} \\right)} \\cos{\\left(q_{1} \\right)}\\\\0.1 \\left(\\cos{\\left(q_{2} \\right)} + \\cos{\\left(q_{2} + q_{3} \\right)}\\right) \\cos{\\left(q_{1} \\right)} & - 0.1 \\left(\\sin{\\left(q_{2} \\right)} + \\sin{\\left(q_{2} + q_{3} \\right)}\\right) \\sin{\\left(q_{1} \\right)} & - 0.1 \\sin{\\left(q_{1} \\right)} \\sin{\\left(q_{2} + q_{3} \\right)}\\\\0 & 0.1 \\left(\\cos{\\left(q_{2} \\right)} + \\cos{\\left(q_{2} + q_{3} \\right)}\\right) & 0.1 \\cos{\\left(q_{2} + q_{3} \\right)}\\end{matrix}\\right]$"
      ],
      "text/plain": [
       "Matrix([\n",
       "[-0.1*(cos(q2) + cos(q2 + q3))*sin(q1), -0.1*(sin(q2) + sin(q2 + q3))*cos(q1), -0.1*sin(q2 + q3)*cos(q1)],\n",
       "[ 0.1*(cos(q2) + cos(q2 + q3))*cos(q1), -0.1*(sin(q2) + sin(q2 + q3))*sin(q1), -0.1*sin(q1)*sin(q2 + q3)],\n",
       "[                                    0,          0.1*(cos(q2) + cos(q2 + q3)),          0.1*cos(q2 + q3)]])"
      ]
     },
     "execution_count": 9,
     "metadata": {},
     "output_type": "execute_result"
    }
   ],
   "source": [
    "jac = pe.jacobian([q1,q2,q3]).applyfunc(sp.trigsimp)\n",
    "jac"
   ]
  },
  {
   "cell_type": "code",
   "execution_count": null,
   "metadata": {},
   "outputs": [],
   "source": []
  }
 ],
 "metadata": {
  "kernelspec": {
   "display_name": "Python 3",
   "language": "python",
   "name": "python3"
  },
  "language_info": {
   "codemirror_mode": {
    "name": "ipython",
    "version": 3
   },
   "file_extension": ".py",
   "mimetype": "text/x-python",
   "name": "python",
   "nbconvert_exporter": "python",
   "pygments_lexer": "ipython3",
   "version": "3.12.8"
  }
 },
 "nbformat": 4,
 "nbformat_minor": 2
}
