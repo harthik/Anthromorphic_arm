{
 "cells": [
  {
   "cell_type": "code",
   "execution_count": 1,
   "metadata": {},
   "outputs": [],
   "source": [
    "import numpy as np\n",
    "import math\n",
    "from math import pi\n",
    "import sympy as sp\n",
    "from sympy import sin,cos\n",
    "import matplotlib.pyplot as plt\n",
    "import copy\n",
    "\n",
    "from my_robot import Quaternion,Link,Robot,forward_kine\n",
    "\n",
    "q1 = sp.Symbol('q1')\n",
    "q2 = sp.Symbol('q2')\n",
    "q3 = sp.Symbol('q3')"
   ]
  },
  {
   "cell_type": "code",
   "execution_count": 2,
   "metadata": {},
   "outputs": [],
   "source": [
    "links = [Link(pi/2,0,q1,0.06,0), Link(0, 0.096, q2,0.0,0.05),Link(0,0.098,q3,0,0.05)]\n",
    "Mp = [0,0,0]\n",
    "K = [1,1,1]\n",
    "ml = [0.01,0.12,0.08]\n",
    "mm = [0.034,0.034,0.034]\n",
    "v0 = np.array([0, 0, 0])\n",
    "n = len(links)  # number of links"
   ]
  },
  {
   "cell_type": "code",
   "execution_count": 12,
   "metadata": {},
   "outputs": [
    {
     "data": {
      "text/latex": [
       "$\\displaystyle \\left[\\begin{matrix}0.194\\\\0\\\\0.06\\end{matrix}\\right]$"
      ],
      "text/plain": [
       "Matrix([\n",
       "[0.194],\n",
       "[    0],\n",
       "[ 0.06]])"
      ]
     },
     "execution_count": 12,
     "metadata": {},
     "output_type": "execute_result"
    }
   ],
   "source": [
    "Rot,pe = forward_kine(links, n, v0)\n",
    "pe = pe.applyfunc(sp.trigsimp)\n",
    "pe.subs({q1:0,q2:0,q3:0})"
   ]
  },
  {
   "cell_type": "code",
   "execution_count": 14,
   "metadata": {},
   "outputs": [
    {
     "name": "stdout",
     "output_type": "stream",
     "text": [
      "Matrix([[-0.048*sin(q1 - q2) - 0.048*sin(q1 + q2) + 0.049*sin(-q1 + q2 + q3) - 0.049*sin(q1 + q2 + q3), 0.048*sin(q1 - q2) - 0.048*sin(q1 + q2) - 0.049*sin(-q1 + q2 + q3) - 0.049*sin(q1 + q2 + q3), -0.049*sin(-q1 + q2 + q3) - 0.049*sin(q1 + q2 + q3)], [0.048*cos(q1 - q2) + 0.048*cos(q1 + q2) + 0.049*cos(-q1 + q2 + q3) + 0.049*cos(q1 + q2 + q3), -0.048*cos(q1 - q2) + 0.048*cos(q1 + q2) - 0.049*cos(-q1 + q2 + q3) + 0.049*cos(q1 + q2 + q3), -0.049*cos(-q1 + q2 + q3) + 0.049*cos(q1 + q2 + q3)], [0, 0.096*cos(q2) + 0.098*cos(q2 + q3), 0.098*cos(q2 + q3)]])\n"
     ]
    }
   ],
   "source": [
    "jac = pe.jacobian([q1,q2,q3]).applyfunc(sp.trigsimp)\n",
    "print(jac)"
   ]
  },
  {
   "cell_type": "code",
   "execution_count": 6,
   "metadata": {},
   "outputs": [
    {
     "name": "stdout",
     "output_type": "stream",
     "text": [
      "0\n"
     ]
    }
   ],
   "source": [
    "J = jac.subs({q1:0,q2:0,q3:0})\n",
    "det_J = J.det()\n",
    "print(det_J)"
   ]
  },
  {
   "cell_type": "code",
   "execution_count": null,
   "metadata": {},
   "outputs": [],
   "source": []
  }
 ],
 "metadata": {
  "kernelspec": {
   "display_name": "my_py",
   "language": "python",
   "name": "python3"
  },
  "language_info": {
   "codemirror_mode": {
    "name": "ipython",
    "version": 3
   },
   "file_extension": ".py",
   "mimetype": "text/x-python",
   "name": "python",
   "nbconvert_exporter": "python",
   "pygments_lexer": "ipython3",
   "version": "3.12.3"
  }
 },
 "nbformat": 4,
 "nbformat_minor": 2
}
